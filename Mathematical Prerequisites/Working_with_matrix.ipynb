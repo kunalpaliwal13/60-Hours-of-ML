{
  "nbformat": 4,
  "nbformat_minor": 0,
  "metadata": {
    "colab": {
      "provenance": []
    },
    "kernelspec": {
      "name": "python3",
      "display_name": "Python 3"
    },
    "language_info": {
      "name": "python"
    }
  },
  "cells": [
    {
      "cell_type": "code",
      "execution_count": 1,
      "metadata": {
        "id": "DSoGOZ1vNn4M"
      },
      "outputs": [],
      "source": [
        "import numpy as np"
      ]
    },
    {
      "cell_type": "markdown",
      "source": [
        "Creating a matrix"
      ],
      "metadata": {
        "id": "K8x25NDKOXt-"
      }
    },
    {
      "cell_type": "markdown",
      "source": [],
      "metadata": {
        "id": "1BIFPoZdPiV4"
      }
    },
    {
      "cell_type": "code",
      "source": [
        "matrix= np.array([[2,3,4], [4,5,6], [9,7,6]])\n",
        "print(matrix)\n",
        "matrix.shape"
      ],
      "metadata": {
        "colab": {
          "base_uri": "https://localhost:8080/"
        },
        "id": "8mWNkzD3Nr6P",
        "outputId": "61710362-5c50-48fc-bcb6-3bafd2933606"
      },
      "execution_count": 4,
      "outputs": [
        {
          "output_type": "stream",
          "name": "stdout",
          "text": [
            "[[2 3 4]\n",
            " [4 5 6]\n",
            " [9 7 6]]\n"
          ]
        },
        {
          "output_type": "execute_result",
          "data": {
            "text/plain": [
              "(3, 3)"
            ]
          },
          "metadata": {},
          "execution_count": 4
        }
      ]
    },
    {
      "cell_type": "markdown",
      "source": [
        "Random matrix"
      ],
      "metadata": {
        "id": "0Nb85iW9PPFf"
      }
    },
    {
      "cell_type": "code",
      "source": [
        "random_matrix= np.random.rand(3,3)"
      ],
      "metadata": {
        "id": "M-FC6rdqOefp"
      },
      "execution_count": 7,
      "outputs": []
    },
    {
      "cell_type": "code",
      "source": [
        "random_matrix"
      ],
      "metadata": {
        "colab": {
          "base_uri": "https://localhost:8080/"
        },
        "id": "yr3LNw95O_aX",
        "outputId": "134a7595-6096-40af-9f0b-c73005e6b831"
      },
      "execution_count": 8,
      "outputs": [
        {
          "output_type": "execute_result",
          "data": {
            "text/plain": [
              "array([[0.46772159, 0.36373256, 0.08384916],\n",
              "       [0.86230494, 0.14466752, 0.04676936],\n",
              "       [0.3320911 , 0.13446353, 0.21384121]])"
            ]
          },
          "metadata": {},
          "execution_count": 8
        }
      ]
    },
    {
      "cell_type": "code",
      "source": [
        "random_integer_matrix= np.random.randint(low=1,high= 100,size=(3,3))\n",
        "\n",
        "print(random_integer_matrix)"
      ],
      "metadata": {
        "colab": {
          "base_uri": "https://localhost:8080/"
        },
        "id": "plpQPiy3PHHV",
        "outputId": "94c07bf2-52ca-4ac6-b212-8d682cf12a6a"
      },
      "execution_count": 13,
      "outputs": [
        {
          "output_type": "stream",
          "name": "stdout",
          "text": [
            "[[79 71 39]\n",
            " [15 17 28]\n",
            " [22 44 13]]\n"
          ]
        }
      ]
    },
    {
      "cell_type": "markdown",
      "source": [
        "Types of Matrix"
      ],
      "metadata": {
        "id": "IPQX7RYvX-H5"
      }
    },
    {
      "cell_type": "code",
      "source": [
        "ones_matrix= np.ones(shape=(3,3))\n",
        "ones_matrix"
      ],
      "metadata": {
        "colab": {
          "base_uri": "https://localhost:8080/"
        },
        "id": "YvM23S6-PjuO",
        "outputId": "77931f5f-1688-4736-e481-9f16b96a861f"
      },
      "execution_count": 16,
      "outputs": [
        {
          "output_type": "execute_result",
          "data": {
            "text/plain": [
              "array([[1., 1., 1.],\n",
              "       [1., 1., 1.],\n",
              "       [1., 1., 1.]])"
            ]
          },
          "metadata": {},
          "execution_count": 16
        }
      ]
    },
    {
      "cell_type": "code",
      "source": [
        "ones_int_matrix= np.ones(shape=(3,3), dtype= int)\n",
        "ones_int_matrix"
      ],
      "metadata": {
        "colab": {
          "base_uri": "https://localhost:8080/"
        },
        "id": "Ywgb8ibDXBPw",
        "outputId": "96131adb-923d-4681-9021-e59c332fd781"
      },
      "execution_count": 17,
      "outputs": [
        {
          "output_type": "execute_result",
          "data": {
            "text/plain": [
              "array([[1, 1, 1],\n",
              "       [1, 1, 1],\n",
              "       [1, 1, 1]])"
            ]
          },
          "metadata": {},
          "execution_count": 17
        }
      ]
    },
    {
      "cell_type": "code",
      "source": [
        "zeros_matrix= np.zeros(shape=(3,3), dtype= int)\n",
        "zeros_matrix"
      ],
      "metadata": {
        "colab": {
          "base_uri": "https://localhost:8080/"
        },
        "id": "492bX2xBXOa1",
        "outputId": "96de64e6-fef5-4bb2-de86-c16c02844630"
      },
      "execution_count": 21,
      "outputs": [
        {
          "output_type": "execute_result",
          "data": {
            "text/plain": [
              "array([[0, 0, 0],\n",
              "       [0, 0, 0],\n",
              "       [0, 0, 0]])"
            ]
          },
          "metadata": {},
          "execution_count": 21
        }
      ]
    },
    {
      "cell_type": "code",
      "source": [
        "identity_matrix= np.eye(3,3, dtype= int)\n",
        "identity_matrix"
      ],
      "metadata": {
        "colab": {
          "base_uri": "https://localhost:8080/"
        },
        "id": "XIk9Zs64XTqs",
        "outputId": "8d0da3bc-6961-4b4a-ae1b-1298ce5cee54"
      },
      "execution_count": 26,
      "outputs": [
        {
          "output_type": "execute_result",
          "data": {
            "text/plain": [
              "array([[1, 0, 0],\n",
              "       [0, 1, 0],\n",
              "       [0, 0, 1]])"
            ]
          },
          "metadata": {},
          "execution_count": 26
        }
      ]
    },
    {
      "cell_type": "markdown",
      "source": [
        "Transpose of Matrix"
      ],
      "metadata": {
        "id": "lfJgjTw5YAgC"
      }
    },
    {
      "cell_type": "code",
      "source": [
        "a= np.random.randint(100, size=(3,3))\n",
        "a"
      ],
      "metadata": {
        "colab": {
          "base_uri": "https://localhost:8080/"
        },
        "id": "sts9A5fSXsMM",
        "outputId": "70ac4003-c2c2-4777-f6fc-9a798fe22074"
      },
      "execution_count": 27,
      "outputs": [
        {
          "output_type": "execute_result",
          "data": {
            "text/plain": [
              "array([[51, 54, 19],\n",
              "       [59, 19, 86],\n",
              "       [15, 98, 37]])"
            ]
          },
          "metadata": {},
          "execution_count": 27
        }
      ]
    },
    {
      "cell_type": "code",
      "source": [
        "transpose_a= np.transpose(a)\n",
        "transpose_a"
      ],
      "metadata": {
        "colab": {
          "base_uri": "https://localhost:8080/"
        },
        "id": "qW-Bv-76YIeC",
        "outputId": "f63e3516-e522-4e9e-ebed-815e8ee58286"
      },
      "execution_count": 28,
      "outputs": [
        {
          "output_type": "execute_result",
          "data": {
            "text/plain": [
              "array([[51, 59, 15],\n",
              "       [54, 19, 98],\n",
              "       [19, 86, 37]])"
            ]
          },
          "metadata": {},
          "execution_count": 28
        }
      ]
    },
    {
      "cell_type": "markdown",
      "source": [
        "Matrix Addition"
      ],
      "metadata": {
        "id": "p7BzvO7VYsBJ"
      }
    },
    {
      "cell_type": "code",
      "source": [
        "m1= np.random.randint(5, size=(3,3))\n",
        "m2= np.random.randint(5, size=(3,3))\n",
        "\n",
        "print(m1, \"\\n \\n\", m2)"
      ],
      "metadata": {
        "colab": {
          "base_uri": "https://localhost:8080/"
        },
        "id": "hwcIsHDZYO9d",
        "outputId": "11bf4814-5a61-4625-a3a3-f07e93ae7af8"
      },
      "execution_count": 40,
      "outputs": [
        {
          "output_type": "stream",
          "name": "stdout",
          "text": [
            "[[3 2 2]\n",
            " [3 1 4]\n",
            " [1 1 3]] \n",
            " \n",
            " [[1 1 2]\n",
            " [3 0 2]\n",
            " [3 4 4]]\n"
          ]
        }
      ]
    },
    {
      "cell_type": "code",
      "source": [
        "m3= m1+m2\n",
        "m3"
      ],
      "metadata": {
        "colab": {
          "base_uri": "https://localhost:8080/"
        },
        "id": "1V_sMPS8Y3R9",
        "outputId": "2e3d9b92-fcea-4d23-a04b-35c3aa7f2990"
      },
      "execution_count": 41,
      "outputs": [
        {
          "output_type": "execute_result",
          "data": {
            "text/plain": [
              "array([[4, 3, 4],\n",
              "       [6, 1, 6],\n",
              "       [4, 5, 7]])"
            ]
          },
          "metadata": {},
          "execution_count": 41
        }
      ]
    },
    {
      "cell_type": "markdown",
      "source": [
        "Matrix Multiplication"
      ],
      "metadata": {
        "id": "DWiMOC4xZBTD"
      }
    },
    {
      "cell_type": "code",
      "source": [
        "m4= m1*2 #scalar\n",
        "m4"
      ],
      "metadata": {
        "colab": {
          "base_uri": "https://localhost:8080/"
        },
        "id": "030zqQ_SY_uh",
        "outputId": "5efb4231-5591-4208-cd1e-87281f9d9c86"
      },
      "execution_count": 42,
      "outputs": [
        {
          "output_type": "execute_result",
          "data": {
            "text/plain": [
              "array([[6, 4, 4],\n",
              "       [6, 2, 8],\n",
              "       [2, 2, 6]])"
            ]
          },
          "metadata": {},
          "execution_count": 42
        }
      ]
    },
    {
      "cell_type": "code",
      "source": [
        "m5= m1*m2 #matrix not right, element wise multiplication\n",
        "\n",
        "m7= np.dot(m1,m2) #correct way\n",
        "print(\"m5: \" ,m5, \"\\n\\n\" , \"m7: \" , m7 )"
      ],
      "metadata": {
        "colab": {
          "base_uri": "https://localhost:8080/"
        },
        "id": "jN30aZ6SZDDx",
        "outputId": "8f08f92e-0e68-45c4-f242-6f25a0a3c0a3"
      },
      "execution_count": 43,
      "outputs": [
        {
          "output_type": "stream",
          "name": "stdout",
          "text": [
            "m5:  [[ 3  2  4]\n",
            " [ 9  0  8]\n",
            " [ 3  4 12]] \n",
            "\n",
            " m7:  [[15 11 18]\n",
            " [18 19 24]\n",
            " [13 13 16]]\n"
          ]
        }
      ]
    },
    {
      "cell_type": "markdown",
      "source": [
        "Matrix Substraction"
      ],
      "metadata": {
        "id": "uKxDviQpZlpf"
      }
    },
    {
      "cell_type": "code",
      "source": [
        "m6= m1-m2\n",
        "m6"
      ],
      "metadata": {
        "colab": {
          "base_uri": "https://localhost:8080/"
        },
        "id": "mh4L3-F1ZMv2",
        "outputId": "dab767fa-04af-43db-b7b3-d1e4a4c57aff"
      },
      "execution_count": 36,
      "outputs": [
        {
          "output_type": "execute_result",
          "data": {
            "text/plain": [
              "array([[ 58,   8,   1],\n",
              "       [ -9, -18,  12],\n",
              "       [  0, -39,  -4]])"
            ]
          },
          "metadata": {},
          "execution_count": 36
        }
      ]
    },
    {
      "cell_type": "code",
      "source": [],
      "metadata": {
        "id": "ipUY-bYZZo5v"
      },
      "execution_count": null,
      "outputs": []
    }
  ]
}