{
  "nbformat": 4,
  "nbformat_minor": 0,
  "metadata": {
    "colab": {
      "provenance": []
    },
    "kernelspec": {
      "name": "python3",
      "display_name": "Python 3"
    },
    "language_info": {
      "name": "python"
    }
  },
  "cells": [
    {
      "cell_type": "code",
      "execution_count": 14,
      "metadata": {
        "id": "pek5oYzlDV1M"
      },
      "outputs": [],
      "source": [
        "import numpy as np\n",
        "import math"
      ]
    },
    {
      "cell_type": "markdown",
      "source": [
        "Dot product of 2 vectors"
      ],
      "metadata": {
        "id": "1V9AG73ZDbl7"
      }
    },
    {
      "cell_type": "code",
      "source": [
        "v1= np.array([2,3])\n",
        "v2= np.array([2,2])\n",
        "v3= np.dot(v1, v2)\n",
        "v3 #dot product"
      ],
      "metadata": {
        "colab": {
          "base_uri": "https://localhost:8080/"
        },
        "id": "NWQcXNIDDaGf",
        "outputId": "60c6ab32-1ab2-4161-eaa5-8a3917dbf4eb"
      },
      "execution_count": 3,
      "outputs": [
        {
          "output_type": "execute_result",
          "data": {
            "text/plain": [
              "10"
            ]
          },
          "metadata": {},
          "execution_count": 3
        }
      ]
    },
    {
      "cell_type": "code",
      "source": [
        "a= np.array([40,20,35]) #can take as many values though\n",
        "b= np.array([20,20,55])\n",
        "c= np.dot(a,b)\n",
        "c"
      ],
      "metadata": {
        "colab": {
          "base_uri": "https://localhost:8080/"
        },
        "id": "dvOU-TzPDeVx",
        "outputId": "4a5ac3bc-cfd6-4589-8e63-b0165f622902"
      },
      "execution_count": 7,
      "outputs": [
        {
          "output_type": "execute_result",
          "data": {
            "text/plain": [
              "3125"
            ]
          },
          "metadata": {},
          "execution_count": 7
        }
      ]
    },
    {
      "cell_type": "markdown",
      "source": [
        "Cross product of 2 vectors"
      ],
      "metadata": {
        "id": "5Z4R1XyiEP0K"
      }
    },
    {
      "cell_type": "code",
      "source": [
        "v3_cross= np.cross(v1,v2)\n",
        "v3_cross"
      ],
      "metadata": {
        "colab": {
          "base_uri": "https://localhost:8080/"
        },
        "id": "y50EGg4zEGCK",
        "outputId": "caa8987e-f0aa-451d-e110-de4606d7a7c4"
      },
      "execution_count": 8,
      "outputs": [
        {
          "output_type": "execute_result",
          "data": {
            "text/plain": [
              "array(-2)"
            ]
          },
          "metadata": {},
          "execution_count": 8
        }
      ]
    },
    {
      "cell_type": "code",
      "source": [
        "c_cross= np.cross(a,b)\n",
        "c_cross"
      ],
      "metadata": {
        "colab": {
          "base_uri": "https://localhost:8080/"
        },
        "id": "Vhrj8Rv8EXVD",
        "outputId": "bb3cd9bc-c393-46e6-a802-385c03841a36"
      },
      "execution_count": 10,
      "outputs": [
        {
          "output_type": "execute_result",
          "data": {
            "text/plain": [
              "array([  400, -1500,   400])"
            ]
          },
          "metadata": {},
          "execution_count": 10
        }
      ]
    },
    {
      "cell_type": "markdown",
      "source": [
        "projrction of \"a\" vector on \"v\" vector"
      ],
      "metadata": {
        "id": "-xeG_Y4IFA3K"
      }
    },
    {
      "cell_type": "markdown",
      "source": [
        "![projectino.png](data:image/png;base64,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)"
      ],
      "metadata": {
        "id": "7bObbIJsGah6"
      }
    },
    {
      "cell_type": "code",
      "source": [
        "v1= np.array([2,3,4])\n",
        "v2= np.array([3,4,5])\n",
        "\n",
        "v1_projection_v2_num= np.dot(v1,v2)#\n",
        "v1_projection_v2_dem= math.sqrt(sum(v2**2))\n",
        "v1_projection_v2= (v1_projection_v2_num/v1_projection_v2_dem) * v2\n",
        "\n",
        "v1_projection_v2"
      ],
      "metadata": {
        "colab": {
          "base_uri": "https://localhost:8080/"
        },
        "id": "LL15jiakEicB",
        "outputId": "676bfcd9-2527-45ba-8453-876a912264de"
      },
      "execution_count": 20,
      "outputs": [
        {
          "output_type": "execute_result",
          "data": {
            "text/plain": [
              "array([16.12203461, 21.49604615, 26.87005769])"
            ]
          },
          "metadata": {},
          "execution_count": 20
        }
      ]
    },
    {
      "cell_type": "code",
      "source": [],
      "metadata": {
        "id": "7WCBDa5-G63t"
      },
      "execution_count": null,
      "outputs": []
    }
  ]
}