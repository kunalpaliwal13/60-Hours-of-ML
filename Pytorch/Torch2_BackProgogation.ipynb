{
  "nbformat": 4,
  "nbformat_minor": 0,
  "metadata": {
    "colab": {
      "provenance": []
    },
    "kernelspec": {
      "name": "python3",
      "display_name": "Python 3"
    },
    "language_info": {
      "name": "python"
    }
  },
  "cells": [
    {
      "cell_type": "code",
      "execution_count": 2,
      "metadata": {
        "id": "SKUw15SRLPA-"
      },
      "outputs": [],
      "source": [
        "import torch\n",
        "import numpy"
      ]
    },
    {
      "cell_type": "markdown",
      "source": [
        "### Suppose eqn=> y=x^2\n",
        "\n",
        "### Backpropogation => y= 2x\n",
        "\n"
      ],
      "metadata": {
        "id": "BhS1kvHVMbPF"
      }
    },
    {
      "cell_type": "code",
      "source": [
        "x= torch.tensor(4.0, requires_grad= True) #requires_grad = True for backpropogation necesaary"
      ],
      "metadata": {
        "id": "QAmZ8nXZLUvW"
      },
      "execution_count": 63,
      "outputs": []
    },
    {
      "cell_type": "code",
      "source": [
        "x"
      ],
      "metadata": {
        "colab": {
          "base_uri": "https://localhost:8080/"
        },
        "id": "cHggFfyxMoZ-",
        "outputId": "67e5d54e-35a9-4198-e507-241f42ebbab1"
      },
      "execution_count": 64,
      "outputs": [
        {
          "output_type": "execute_result",
          "data": {
            "text/plain": [
              "tensor(4., requires_grad=True)"
            ]
          },
          "metadata": {},
          "execution_count": 64
        }
      ]
    },
    {
      "cell_type": "code",
      "source": [
        "y = x**2"
      ],
      "metadata": {
        "id": "XFS7_iayMp36"
      },
      "execution_count": 6,
      "outputs": []
    },
    {
      "cell_type": "code",
      "source": [
        "y"
      ],
      "metadata": {
        "colab": {
          "base_uri": "https://localhost:8080/"
        },
        "id": "GJL9AVTvMw8g",
        "outputId": "728f9930-f250-4fb1-eb6b-c073c7e6ec09"
      },
      "execution_count": 7,
      "outputs": [
        {
          "output_type": "execute_result",
          "data": {
            "text/plain": [
              "tensor(16., grad_fn=<PowBackward0>)"
            ]
          },
          "metadata": {},
          "execution_count": 7
        }
      ]
    },
    {
      "cell_type": "code",
      "source": [
        "#Backpropogation\n",
        "y.backward()"
      ],
      "metadata": {
        "id": "hTIi26JKMxqx"
      },
      "execution_count": 8,
      "outputs": []
    },
    {
      "cell_type": "code",
      "source": [
        "print(x.grad)"
      ],
      "metadata": {
        "colab": {
          "base_uri": "https://localhost:8080/"
        },
        "id": "vlZPI3mANFeH",
        "outputId": "de15f5fd-544b-4629-9ddb-88dc179da188"
      },
      "execution_count": 11,
      "outputs": [
        {
          "output_type": "stream",
          "name": "stdout",
          "text": [
            "tensor(8.)\n"
          ]
        }
      ]
    },
    {
      "cell_type": "markdown",
      "source": [
        "What if the tensor were a matrix, as they are in ANN"
      ],
      "metadata": {
        "id": "ZOR86wA-NgTp"
      }
    },
    {
      "cell_type": "code",
      "source": [
        "lst = [[1.,2.,3.], [7.,5.,6.], [0.,7.,2.]]\n",
        "torch_input = torch.tensor(lst, requires_grad = True)"
      ],
      "metadata": {
        "id": "V3Qlpmb9NKMR"
      },
      "execution_count": 79,
      "outputs": []
    },
    {
      "cell_type": "code",
      "source": [
        "torch_input"
      ],
      "metadata": {
        "colab": {
          "base_uri": "https://localhost:8080/"
        },
        "id": "YqVfdvpCNtqG",
        "outputId": "b96df3b9-cc5b-4a28-e907-fd51770dcb4b"
      },
      "execution_count": 80,
      "outputs": [
        {
          "output_type": "execute_result",
          "data": {
            "text/plain": [
              "tensor([[1., 2., 3.],\n",
              "        [7., 5., 6.],\n",
              "        [0., 7., 2.]], requires_grad=True)"
            ]
          },
          "metadata": {},
          "execution_count": 80
        }
      ]
    },
    {
      "cell_type": "code",
      "source": [
        "y = torch_input**2 + 3\n",
        "y"
      ],
      "metadata": {
        "colab": {
          "base_uri": "https://localhost:8080/"
        },
        "id": "3mAsTxx1ONjs",
        "outputId": "05d7a5f2-7324-4071-8ce4-bde47390171d"
      },
      "execution_count": 81,
      "outputs": [
        {
          "output_type": "execute_result",
          "data": {
            "text/plain": [
              "tensor([[ 4.,  7., 12.],\n",
              "        [52., 28., 39.],\n",
              "        [ 3., 52.,  7.]], grad_fn=<AddBackward0>)"
            ]
          },
          "metadata": {},
          "execution_count": 81
        }
      ]
    },
    {
      "cell_type": "code",
      "source": [
        "z=y.sum()"
      ],
      "metadata": {
        "id": "UrY6X3WEO4_0"
      },
      "execution_count": 82,
      "outputs": []
    },
    {
      "cell_type": "code",
      "source": [
        "z"
      ],
      "metadata": {
        "colab": {
          "base_uri": "https://localhost:8080/"
        },
        "id": "N1uvyb1KPMl2",
        "outputId": "f5d60ac9-a848-44fd-89eb-4d9a15be6f66"
      },
      "execution_count": 83,
      "outputs": [
        {
          "output_type": "execute_result",
          "data": {
            "text/plain": [
              "tensor(204., grad_fn=<SumBackward0>)"
            ]
          },
          "metadata": {},
          "execution_count": 83
        }
      ]
    },
    {
      "cell_type": "code",
      "source": [
        "z.backward()"
      ],
      "metadata": {
        "id": "PhhYWjGAPQ4n"
      },
      "execution_count": 84,
      "outputs": []
    },
    {
      "cell_type": "code",
      "source": [
        "torch_input.grad"
      ],
      "metadata": {
        "colab": {
          "base_uri": "https://localhost:8080/"
        },
        "id": "-LwhnZOOPUy2",
        "outputId": "0fad93e9-9043-4a14-fe11-57d755ffdcdf"
      },
      "execution_count": 85,
      "outputs": [
        {
          "output_type": "execute_result",
          "data": {
            "text/plain": [
              "tensor([[ 2.,  4.,  6.],\n",
              "        [14., 10., 12.],\n",
              "        [ 0., 14.,  4.]])"
            ]
          },
          "metadata": {},
          "execution_count": 85
        }
      ]
    }
  ]
}